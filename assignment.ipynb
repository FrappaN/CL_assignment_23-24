{
 "cells": [
  {
   "cell_type": "code",
   "execution_count": 1,
   "metadata": {},
   "outputs": [],
   "source": [
    "import torch\n",
    "import matplotlib.pyplot as plt\n",
    "import torchvision\n",
    "import numpy as np\n",
    "from torch.utils.data import Subset, TensorDataset, DataLoader\n",
    "from random import shuffle\n",
    "from tqdm import tqdm\n",
    "from copy import deepcopy\n",
    "import sys\n",
    "from thop import profile"
   ]
  },
  {
   "cell_type": "code",
   "execution_count": 2,
   "metadata": {},
   "outputs": [],
   "source": [
    "\n",
    "import torch\n",
    "import torch.nn as nn\n",
    "import torch.nn.functional as F\n",
    "import torch.optim as optim\n",
    "from torchvision import datasets, transforms\n",
    "from torch.autograd import Variable\n",
    "from torchvision.utils import save_image\n",
    "\n",
    "# Device configuration\n",
    "device = 'cuda' if torch.cuda.is_available() else 'cpu'"
   ]
  },
  {
   "cell_type": "markdown",
   "metadata": {},
   "source": [
    "### Arguments"
   ]
  },
  {
   "cell_type": "code",
   "execution_count": 3,
   "metadata": {},
   "outputs": [],
   "source": [
    "args = {\n",
    "    'lr': 1e-3, \n",
    "    'lr_G': 1e-3,\n",
    "    'lr_D': 1e-3,\n",
    "    'lr_VAE': 1e-3,\n",
    "    'epochs_VAE': 40,\n",
    "    'bs': 128,\n",
    "    'epochs': 5, \n",
    "    'epochs_GAN': 100,\n",
    "    'num_tasks': 5,\n",
    "    'dataset': \"MNIST\",\n",
    "    'num_classes': 10, \n",
    "    'in_size': 28,\n",
    "    'n_channels': 1,\n",
    "    'hidden_size': 50,\n",
    "    'hidden_size_GAN': 100,\n",
    "    'device' : device,\n",
    "    }"
   ]
  },
  {
   "cell_type": "markdown",
   "metadata": {},
   "source": [
    "### Data"
   ]
  },
  {
   "cell_type": "code",
   "execution_count": 4,
   "metadata": {},
   "outputs": [],
   "source": [
    "\n",
    "def get_dataset(dataroot, dataset):\n",
    "    if dataset == 'MNIST':\n",
    "        mean, std = (0.5), (0.5)\n",
    "    elif dataset == 'FASHION-MNIST':\n",
    "        raise NotImplementedError\n",
    "\n",
    "    transform = torchvision.transforms.Compose([\n",
    "        torchvision.transforms.ToTensor(),\n",
    "        #torchvision.transforms.Normalize(mean=mean, std=std)\n",
    "        ])\n",
    "    \n",
    "    train_dataset = torchvision.datasets.__dict__[dataset](\n",
    "        root=dataroot,\n",
    "        train=True,\n",
    "        download=True,\n",
    "        transform=transform,\n",
    "    )\n",
    "\n",
    "    val_dataset = torchvision.datasets.__dict__[dataset](\n",
    "        root=dataroot,\n",
    "        train=False,\n",
    "        download=True,\n",
    "        transform=transform\n",
    "    )\n",
    "    train_dataset\n",
    "    val_dataset\n",
    "    \n",
    "    return train_dataset, val_dataset\n",
    "\n",
    "\n",
    "def split_dataset(dataset, tasks_split):\n",
    "    split_dataset = {}\n",
    "    for e, current_classes in tasks_split.items():\n",
    "        task_indices = np.isin(np.array(dataset.targets), current_classes)\n",
    "        split_dataset[e] = Subset(dataset, np.where(task_indices)[0])\n",
    "    return split_dataset"
   ]
  },
  {
   "cell_type": "markdown",
   "metadata": {},
   "source": [
    "### Metrics & plotting"
   ]
  },
  {
   "cell_type": "code",
   "execution_count": 18,
   "metadata": {},
   "outputs": [],
   "source": [
    "def dict2array(acc):\n",
    "    num_tasks = len(acc)\n",
    "    first_task = list(acc.keys())[0]\n",
    "    sequence_length = len(acc[first_task]) if isinstance(acc[first_task], list) else num_tasks\n",
    "    acc_array = np.zeros((num_tasks, sequence_length))\n",
    "    for task, val in acc.items():\n",
    "        acc_array[int(task), :] = val\n",
    "    return acc_array\n",
    "\n",
    "\n",
    "def plot_accuracy_matrix(array):\n",
    "    num_tasks = array.shape[1]\n",
    "    array = np.round(array, 2)\n",
    "    fig, ax = plt.subplots()\n",
    "    ax.imshow(array, vmin=np.min(array), vmax=np.max(array))\n",
    "    for i in range(len(array)):\n",
    "        for j in range(array.shape[1]):\n",
    "            ax.text(j,i, array[i,j], va='center', ha='center', c='w', fontsize=15)\n",
    "    ax.set_yticks(np.arange(num_tasks))\n",
    "    ax.set_ylabel('Number of tasks')\n",
    "    ax.set_xticks(np.arange(num_tasks))\n",
    "    ax.set_xlabel('Tasks finished')\n",
    "    ax.set_title(f\"ACC: {np.mean(array[:, -1]):.3f} -- std {np.std(np.mean(array[:, -1])):.3f}\")\n",
    "    plt.show()\n",
    "\n",
    "\n",
    "def plot_acc_over_time(array):\n",
    "    fig, ax = plt.subplots()\n",
    "    for e, acc in enumerate(array):\n",
    "        ax.plot(acc, label=e)\n",
    "    plt.legend()\n",
    "    plt.show()\n",
    "\n",
    "\n",
    "def compute_average_accuracy(array):\n",
    "    num_tasks = len(array)\n",
    "    avg_acc = np.sum(array[:, -1], axis=0)/num_tasks\n",
    "    return avg_acc\n",
    "\n",
    "\n",
    "def compute_backward_transfer(array):\n",
    "    num_tasks = len(array)\n",
    "    diag = np.diag(array)[:-1] # Note, we do not compute backward transfer for the last task!\n",
    "    end_acc = array[:-1, -1]\n",
    "    bwt = np.sum(end_acc - diag)/(num_tasks - 1)\n",
    "    return bwt\n",
    "\n",
    "\n",
    "def compute_forward_transfer(array, b):\n",
    "    num_tasks = len(array)\n",
    "    sub_diag = np.diag(array, k=-1) # Note, we do not compute forward transfer for the first task!\n",
    "    fwt = np.sum(sub_diag - b[1:])/(num_tasks - 1)\n",
    "    return fwt\n",
    "\n",
    "def compute_model_size_eff(array):\n",
    "    num_tasks = len(array)\n",
    "    first_task_memory = array[0]\n",
    "    memory_ratios_sum = np.sum(first_task_memory/array)\n",
    "\n",
    "    if memory_ratios_sum/num_tasks > 1:\n",
    "        return 1\n",
    "    else:\n",
    "        return memory_ratios_sum/num_tasks\n",
    "\n",
    "def compute_samples_storage_eff(array, memory_bound):\n",
    "    num_tasks = len(array)\n",
    "    memory_ratios_sum = np.sum(array)/memory_bound\n",
    "\n",
    "    if memory_ratios_sum/num_tasks > 1:\n",
    "        return 0 \n",
    "    else:\n",
    "        return 1-memory_ratios_sum/num_tasks"
   ]
  },
  {
   "cell_type": "markdown",
   "metadata": {},
   "source": [
    "### GAN buffer"
   ]
  },
  {
   "cell_type": "code",
   "execution_count": 6,
   "metadata": {},
   "outputs": [],
   "source": [
    "class Generator(nn.Module):\n",
    "    def __init__(self, g_input_dim, g_output_dim):\n",
    "        super(Generator, self).__init__()\n",
    "        self.fc1 = nn.Linear(g_input_dim, 256)\n",
    "        self.fc2 = nn.Linear(self.fc1.out_features, self.fc1.out_features*2)\n",
    "        self.fc3 = nn.Linear(self.fc2.out_features, self.fc2.out_features*2)\n",
    "        self.fc4 = nn.Linear(self.fc3.out_features, g_output_dim)\n",
    "\n",
    "    # forward method\n",
    "    def forward(self, x):\n",
    "        x = F.leaky_relu(self.fc1(x), 0.2)\n",
    "        x = F.leaky_relu(self.fc2(x), 0.2)\n",
    "        x = F.leaky_relu(self.fc3(x), 0.2)\n",
    "        return torch.tanh(self.fc4(x))\n",
    "\n",
    "class Discriminator(nn.Module):\n",
    "    def __init__(self, d_input_dim):\n",
    "        super(Discriminator, self).__init__()\n",
    "        self.fc1 = nn.Linear(d_input_dim, 1024)\n",
    "        self.fc2 = nn.Linear(self.fc1.out_features, self.fc1.out_features//2)\n",
    "        self.fc3 = nn.Linear(self.fc2.out_features, self.fc2.out_features//2)\n",
    "        self.fc4 = nn.Linear(self.fc3.out_features, 1)\n",
    "\n",
    "    # forward method\n",
    "    def forward(self, x):\n",
    "        x = F.leaky_relu(self.fc1(x), 0.2)\n",
    "        x = F.dropout(x, 0.5)\n",
    "        x = F.leaky_relu(self.fc2(x), 0.2)\n",
    "        x = F.dropout(x, 0.5)\n",
    "        x = F.leaky_relu(self.fc3(x), 0.2)\n",
    "        x = F.dropout(x, 0.5)\n",
    "        return torch.sigmoid(self.fc4(x))"
   ]
  },
  {
   "cell_type": "code",
   "execution_count": 7,
   "metadata": {},
   "outputs": [],
   "source": [
    "class GAN_buffer:\n",
    "    def __init__(self, sample_size, args):\n",
    "\n",
    "        self.device = args['device']\n",
    "\n",
    "        self.sample_size = sample_size\n",
    "\n",
    "        self._loss_history = {'D': [], 'G': []}\n",
    "        # loss\n",
    "        self.criterion = nn.BCELoss()\n",
    "\n",
    "        # optimizer\n",
    "        self.lr_G = args['lr_G']\n",
    "        self.lr_D = args['lr_D']\n",
    "\n",
    "        self.bs = args['bs']\n",
    "        self.z_dim = args['hidden_size_GAN']\n",
    "        self.data_dim = args['in_size']**2 * args['n_channels']\n",
    "        self.n_epochs = args['epochs_GAN']\n",
    "\n",
    "\n",
    "        self.G = Generator(g_input_dim = self.z_dim, g_output_dim = self.data_dim).to(device)\n",
    "        self.D = Discriminator(d_input_dim = self.data_dim).to(device)\n",
    "\n",
    "        self.G_optimizer = optim.Adam(self.G.parameters(), lr = self.lr_G)\n",
    "        self.D_optimizer = optim.Adam(self.D.parameters(), lr = self.lr_D)\n",
    "\n",
    "    def learn_from_loader(self, loader):\n",
    "        self.D.train()\n",
    "        self.G.train()\n",
    "        G_losses = []\n",
    "        D_losses = []\n",
    "\n",
    "        for epoch in range(self.n_epochs):\n",
    "            D_tot_loss = 0\n",
    "            G_tot_loss = 0\n",
    "            for batch_idx, (x, _) in enumerate(loader):\n",
    "                D_loss = self._D_train(x)\n",
    "                G_loss = self._G_train()\n",
    "                D_tot_loss += D_loss\n",
    "                G_tot_loss += G_loss\n",
    "            \n",
    "            D_tot_loss /= len(loader)\n",
    "            G_tot_loss /= len(loader)\n",
    "            D_losses.append(D_tot_loss)\n",
    "            G_losses.append(G_tot_loss)\n",
    "            print('[%d/%d]: loss_d: %.3f, loss_g: %.3f' % (\n",
    "                 (epoch), self.n_epochs, D_tot_loss, G_tot_loss))\n",
    "\n",
    "        self._loss_history['D'].append(D_losses)\n",
    "        self._loss_history['G'].append(G_losses)\n",
    "        return None\n",
    "\n",
    "    def get_data(self):\n",
    "        self.G.eval()\n",
    "        z = torch.randn(self.sample_size, self.z_dim).to(device)\n",
    "        x = self.G(z).view(-1, 1, 28, 28)\n",
    "        return x.detach().cpu()\n",
    "    \n",
    "    def _D_train(self, x):\n",
    "        #=======================Train the discriminator=======================#\n",
    "        D = self.D\n",
    "        G = self.G\n",
    "\n",
    "        criterion = self.criterion\n",
    "        data_dim = self.data_dim\n",
    "        bs = self.bs\n",
    "        z_dim = self.z_dim\n",
    "        D_optimizer = self.D_optimizer\n",
    "\n",
    "        num_data = x.shape[0]\n",
    "\n",
    "    \n",
    "        D.zero_grad()\n",
    "\n",
    "        # train discriminator on real\n",
    "        x_real, y_real = x.view(-1, data_dim), torch.ones(num_data, 1)\n",
    "        x_real, y_real = Variable(x_real.to(device)), Variable(y_real.to(device))\n",
    "\n",
    "        D_output = D(x_real)\n",
    "\n",
    "        D_real_loss = criterion(D_output, y_real)\n",
    "        D_real_score = D_output\n",
    "\n",
    "        # train discriminator on facke\n",
    "        z = Variable(torch.randn(bs, z_dim).to(device))\n",
    "        x_fake, y_fake = G(z), Variable(torch.zeros(bs, 1).to(device))\n",
    "\n",
    "        D_output = D(x_fake)\n",
    "        D_fake_loss = criterion(D_output, y_fake)\n",
    "        D_fake_score = D_output\n",
    "\n",
    "        # gradient backprop & optimize ONLY D's parameters\n",
    "        D_loss = D_real_loss + D_fake_loss\n",
    "        D_loss.backward()\n",
    "        D_optimizer.step()\n",
    "\n",
    "\n",
    "        return  D_loss.data.item()\n",
    "    \n",
    "    def _G_train(self):\n",
    "        #=======================Train the generator=======================#\n",
    "        D = self.D\n",
    "        G = self.G\n",
    "\n",
    "        criterion = self.criterion\n",
    "        bs = self.bs\n",
    "        z_dim = self.z_dim\n",
    "        G_optimizer = self.G_optimizer\n",
    "        \n",
    "        G.zero_grad()\n",
    "\n",
    "        z = Variable(torch.randn(bs, z_dim).to(device))\n",
    "        y = Variable(torch.ones(bs, 1).to(device))\n",
    "\n",
    "        G_output = G(z)\n",
    "        D_output = D(G_output)\n",
    "        G_loss = criterion(D_output, y)\n",
    "\n",
    "        # gradient backprop & optimize ONLY G's parameters\n",
    "        G_loss.backward()\n",
    "        G_optimizer.step()\n",
    "\n",
    "        return G_loss.data.item()"
   ]
  },
  {
   "cell_type": "markdown",
   "metadata": {},
   "source": [
    "### VAE buffer"
   ]
  },
  {
   "cell_type": "code",
   "execution_count": 8,
   "metadata": {},
   "outputs": [],
   "source": [
    "class VAE(nn.Module):\n",
    "    def __init__(self, mnist_dim=784):\n",
    "        super(VAE, self).__init__()\n",
    "\n",
    "        self.mnist_dim = mnist_dim\n",
    "\n",
    "        self.fc1 = nn.Linear(mnist_dim, 128) #Encoder\n",
    "        self.fc21 = nn.Linear(128, 8) #mu\n",
    "        self.fc22 = nn.Linear(128, 8) #sigma\n",
    "\n",
    "        self.fc3 = nn.Linear(8, 128) #Decoder\n",
    "        self.fc4 = nn.Linear(128, mnist_dim)\n",
    "        \n",
    "    def encoder(self, x):\n",
    "        h = torch.tanh(self.fc1(x))\n",
    "        return self.fc21(h), self.fc22(h) # mu, std\n",
    "    \n",
    "    \n",
    "    def sampling(self, mu, std): # Reparameterization trick\n",
    "        eps1 = torch.randn_like(std)\n",
    "        eps2 = torch.randn_like(std)\n",
    "        return 0.5*((eps1 * std + mu) + (eps2 * std + mu)) # Using two samples to compute expectation over z\n",
    "\n",
    "    def decoder(self, z):\n",
    "        h = torch.tanh(self.fc3(z))\n",
    "        return torch.sigmoid(self.fc4(h)) \n",
    "    \n",
    "    def forward(self, x):\n",
    "        mu, std = self.encoder(x.view(-1, self.mnist_dim))\n",
    "        z = self.sampling(mu, std)\n",
    "        return self.decoder(z), mu, std"
   ]
  },
  {
   "cell_type": "code",
   "execution_count": 9,
   "metadata": {},
   "outputs": [],
   "source": [
    "class VAE_buffer:\n",
    "    def __init__(self, sample_size, args):\n",
    "\n",
    "        self.device = args['device']\n",
    "\n",
    "        self.sample_size = sample_size\n",
    "\n",
    "        self._loss_history = []\n",
    "        # loss\n",
    "        self.criterion = nn.BCELoss()\n",
    "\n",
    "        # optimizer\n",
    "        self.lr_VAE = args['lr_VAE']\n",
    "\n",
    "        self.data_dim = args['in_size']**2 * args['n_channels']\n",
    "        self.n_epochs = args['epochs_VAE']\n",
    "\n",
    "    \n",
    "    def loss_function(self, y, x, mu, std): \n",
    "        ERR = F.binary_cross_entropy(y, x.view(-1, self.data_dim), reduction='sum')\n",
    "        KLD = -0.5 * torch.sum(1 + torch.log(std**2) - mu**2 - std**2)\n",
    "        return ERR + KLD, -ERR, -KLD\n",
    "\n",
    "    def learn_from_loader(self, loader):\n",
    "        self.VAE = VAE(mnist_dim = self.data_dim).to(device)\n",
    "\n",
    "        self.optimizer = optim.Adam(self.VAE.parameters(), lr = self.lr_VAE)\n",
    "        self.scheduler = torch.optim.lr_scheduler.ReduceLROnPlateau(self.optimizer, 'max', factor=0.5, \n",
    "                             patience=5, threshold=0.001, cooldown=0,\n",
    "                             min_lr=0.0001, verbose=True)\n",
    "        \n",
    "        err_l, kld_l = [], []\n",
    "        for epoch in range(1, self.n_epochs):\n",
    "\n",
    "            train_loss = 0\n",
    "            for batch_idx, (data, _) in enumerate(loader):\n",
    "                self.VAE.train()\n",
    "                bsize = data.shape[0]\n",
    "                recon_batch, mu, std = self.VAE(data)\n",
    "                loss, err, kld = self.loss_function(recon_batch, data, mu, std)\n",
    "                loss.backward()\n",
    "                train_loss += err.item() + kld.item()\n",
    "                self.optimizer.step()\n",
    "                self.optimizer.zero_grad()\n",
    "                err_l.append(err.item()/bsize)\n",
    "                kld_l.append(kld.item()/bsize)\n",
    "\n",
    "            self.scheduler.step(train_loss / len(loader.dataset))\n",
    "            \n",
    "            print('====> Epoch: {} Average loss: {:.4f}'.format(epoch, train_loss / len(loader.dataset)))\n",
    "\n",
    "    def get_data(self):\n",
    "        self.VAE.eval()\n",
    "        z = np.random.normal(0,1, (self.sample_size, 8))\n",
    "        z = z.astype(np.float32)\n",
    "        z = torch.from_numpy(z)\n",
    "        #x= x.cuda()\n",
    "        recon = self.VAE.decoder(z)\n",
    "        b = recon.view(-1, 1, 28, 28)\n",
    "        return b.detach().cpu()"
   ]
  },
  {
   "cell_type": "markdown",
   "metadata": {},
   "source": [
    "## Agent and experiments with VAE buffer"
   ]
  },
  {
   "cell_type": "code",
   "execution_count": 51,
   "metadata": {},
   "outputs": [],
   "source": [
    "\n",
    "class Agent:\n",
    "    def __init__(self, args, train_datasets, val_datasets):\n",
    "        self.args = args\n",
    "        model = MLP(self.args)\n",
    "\n",
    "        self.model = model.to(device)\n",
    "        self.optimizer = torch.optim.Adam(self.model.parameters(), lr=self.args['lr'])\n",
    "        self.criterion = torch.nn.CrossEntropyLoss()\n",
    "        self.reset_metrics()\n",
    "        self.train_datasets = train_datasets\n",
    "        self.val_datasets = val_datasets\n",
    "        \n",
    "        self.buffer = VAE_buffer(sample_size=10000, args=args) #GAN_buffer(sample_size=1000, args=args)\n",
    "    \n",
    "    def reset_metrics(self):\n",
    "        self.acc = {key: [] for key in self.args['task_names']}\n",
    "        self.acc_end = {key: [] for key in self.args['task_names']}\n",
    "        self.model_memory = {key: None for key in self.args['task_names']}\n",
    "\n",
    "    def train(self):\n",
    "        for task, new_task_data in self.train_datasets.items():\n",
    "            \"\"\"\n",
    "              Put the data loader to the buffer (use store_data method).\n",
    "              Retrieve previously stored data and create \"greedy_loader\" using\n",
    "              TensorDataset class.\n",
    "            \"\"\"\n",
    "            print(f\"Task {task} ---- \")\n",
    "            loader = DataLoader(new_task_data, batch_size=self.args['bs'], )\n",
    "            samples, targets = torch.Tensor([]), torch.Tensor([])\n",
    "            for sample, target in loader:\n",
    "                samples = torch.cat((samples, sample))\n",
    "                targets = torch.cat((targets, target))\n",
    "            targets = targets.long()\n",
    "            print('num new samples: ', len(samples))\n",
    "            \n",
    "            if int(task) > 0:\n",
    "                self.model.eval()\n",
    "                old_task_samples = self.buffer.get_data()\n",
    "                old_task_targets = self.model(old_task_samples.to(device)).argmax(dim=1).cpu().long()\n",
    "\n",
    "                complete_samples = torch.cat((old_task_samples, samples))\n",
    "                complete_targets = torch.cat((old_task_targets, targets))\n",
    "\n",
    "                print('num generated samples: ', len(old_task_samples))\n",
    "\n",
    "                complete_data = TensorDataset(complete_samples.clone(), complete_targets.clone())\n",
    "                loader = DataLoader(complete_data, batch_size=self.args['bs'], shuffle=True)\n",
    "\n",
    "                self.buffer.learn_from_loader(loader)\n",
    "\n",
    "                #complete_data = TensorDataset(complete_samples.clone(), complete_targets.clone())\n",
    "                #loader = DataLoader(complete_data, batch_size=self.args['bs'], shuffle=True)\n",
    "            else:\n",
    "                self.buffer.learn_from_loader(loader)\n",
    "            \n",
    "            for epoch in range(self.args['epochs']):\n",
    "                self.model.train()\n",
    "                epoch_loss = 0\n",
    "                total = 0\n",
    "                correct = 0\n",
    "                for e, (X, y) in tqdm(enumerate(loader)):\n",
    "                    X, y = X.to(device), y.to(device)\n",
    "                    output = self.model(X)\n",
    "                    loss = self.criterion(output, y)\n",
    "                    self.optimizer.zero_grad()\n",
    "                    loss.backward()  \n",
    "                    self.optimizer.step()\n",
    "\n",
    "                    epoch_loss += loss.item()\n",
    "                    correct += torch.sum(torch.topk(output, axis=1, k=1)[1].squeeze(1) == y).item()\n",
    "                    total += len(X)\n",
    "                    if e % 50 == 0:\n",
    "                        self.validate()\n",
    "                print(f\"Epoch {epoch}: Loss {epoch_loss/(e+1):.3f} Acc: {correct/total:.3f}\")\n",
    "            self.validate(end_of_epoch=True)\n",
    "\n",
    "            param_size = 0\n",
    "            for param in self.model.parameters():\n",
    "                param_size += param.nelement() * param.element_size()\n",
    "            for param in self.buffer.VAE.parameters():\n",
    "                param_size += param.nelement() * param.element_size()\n",
    "            buffer_size = 0\n",
    "            for buffer in self.model.buffers():\n",
    "                buffer_size += buffer.nelement() * buffer.element_size()\n",
    "            for buffer in self.buffer.VAE.buffers():\n",
    "                buffer_size += buffer.nelement() * buffer.element_size()\n",
    "\n",
    "            self.model_memory[task] = (param_size + buffer_size) / 1024**2\n",
    "\n",
    "\n",
    "\n",
    "    @torch.no_grad()\n",
    "    def validate(self, end_of_epoch=False):\n",
    "        self.model.eval()\n",
    "        for task, data in self.val_datasets.items():\n",
    "            loader = torch.utils.data.DataLoader(data, batch_size=args['bs'], shuffle=True)\n",
    "            correct, total = 0, 0\n",
    "            for e, (X, y) in enumerate(loader):\n",
    "                X, y = X.to(device), y.to(device)\n",
    "                output = self.model(X)\n",
    "                correct += torch.sum(torch.topk(output, axis=1, k=1)[1].squeeze(1) == y).item()\n",
    "                total += len(X)\n",
    "            self.acc[task].append(correct/total)\n",
    "            if end_of_epoch:\n",
    "                self.acc_end[task].append(correct/total)\n",
    "        self.model.train()\n",
    "\n",
    "\n",
    "class MLP(torch.nn.Module):\n",
    "    def __init__(self, args):\n",
    "        super().__init__()\n",
    "        hidden_size = args['hidden_size']\n",
    "        self.fc1 = torch.nn.Linear(args['in_size']**2 * args['n_channels'], hidden_size)\n",
    "        self.fc2 = torch.nn.Linear(hidden_size, hidden_size)\n",
    "        self.fc3 = torch.nn.Linear(hidden_size, hidden_size)\n",
    "        self.fc4 = torch.nn.Linear(hidden_size, args['num_classes'])\n",
    "\n",
    "    def forward(self, input):\n",
    "        x_mlp = input.flatten(start_dim=1)\n",
    "        x_mlp = torch.nn.functional.relu(self.fc1(x_mlp))\n",
    "        x_mlp = torch.nn.functional.relu(self.fc2(x_mlp))\n",
    "        x_mlp = torch.nn.functional.relu(self.fc3(x_mlp))\n",
    "        x_mlp = self.fc4(x_mlp)\n",
    "        return x_mlp\n"
   ]
  },
  {
   "cell_type": "code",
   "execution_count": 52,
   "metadata": {},
   "outputs": [
    {
     "name": "stdout",
     "output_type": "stream",
     "text": [
      "{'0': [5, 3], '1': [4, 7], '2': [0, 2], '3': [8, 9], '4': [6, 1]}\n"
     ]
    }
   ],
   "source": [
    "classes = list(range(args['num_classes']))\n",
    "shuffle(classes)\n",
    "class_split = {str(i): classes[i*2: (i+1)*2] for i in range(args['num_tasks'])}\n",
    "print(class_split)\n",
    "args['task_names'] = list(class_split.keys())"
   ]
  },
  {
   "cell_type": "code",
   "execution_count": 53,
   "metadata": {},
   "outputs": [
    {
     "name": "stdout",
     "output_type": "stream",
     "text": [
      "Task 0 ---- \n",
      "num new samples:  11552\n",
      "====> Epoch: 1 Average loss: -282.3473\n",
      "====> Epoch: 2 Average loss: -190.6618\n",
      "====> Epoch: 3 Average loss: -171.2341\n",
      "====> Epoch: 4 Average loss: -164.1604\n",
      "====> Epoch: 5 Average loss: -155.1762\n",
      "====> Epoch: 6 Average loss: -151.0613\n",
      "====> Epoch: 7 Average loss: -147.6879\n",
      "====> Epoch: 8 Average loss: -144.4068\n",
      "====> Epoch: 9 Average loss: -141.7613\n",
      "====> Epoch: 10 Average loss: -139.9239\n",
      "====> Epoch: 11 Average loss: -138.3556\n",
      "====> Epoch: 12 Average loss: -137.1535\n",
      "====> Epoch: 13 Average loss: -135.8862\n",
      "====> Epoch: 14 Average loss: -134.7783\n",
      "====> Epoch: 15 Average loss: -133.6495\n",
      "====> Epoch: 16 Average loss: -132.6579\n",
      "====> Epoch: 17 Average loss: -131.7175\n",
      "====> Epoch: 18 Average loss: -130.8836\n",
      "====> Epoch: 19 Average loss: -130.1336\n",
      "====> Epoch: 20 Average loss: -129.4304\n",
      "====> Epoch: 21 Average loss: -128.7150\n",
      "====> Epoch: 22 Average loss: -128.1156\n",
      "====> Epoch: 23 Average loss: -127.5504\n",
      "====> Epoch: 24 Average loss: -126.9368\n",
      "====> Epoch: 25 Average loss: -126.4652\n",
      "====> Epoch: 26 Average loss: -126.3163\n",
      "====> Epoch: 27 Average loss: -125.7703\n",
      "====> Epoch: 28 Average loss: -124.9780\n",
      "====> Epoch: 29 Average loss: -124.4914\n",
      "====> Epoch: 30 Average loss: -124.1119\n",
      "====> Epoch: 31 Average loss: -123.5882\n",
      "====> Epoch: 32 Average loss: -123.3362\n",
      "====> Epoch: 33 Average loss: -122.9158\n",
      "====> Epoch: 34 Average loss: -122.5283\n",
      "====> Epoch: 35 Average loss: -122.1445\n",
      "====> Epoch: 36 Average loss: -121.7550\n",
      "====> Epoch: 37 Average loss: -121.4796\n",
      "====> Epoch: 38 Average loss: -121.1803\n",
      "====> Epoch: 39 Average loss: -120.8065\n"
     ]
    },
    {
     "name": "stderr",
     "output_type": "stream",
     "text": [
      "91it [00:01, 80.85it/s]\n"
     ]
    },
    {
     "name": "stdout",
     "output_type": "stream",
     "text": [
      "Epoch 0: Loss 0.740 Acc: 0.757\n"
     ]
    },
    {
     "name": "stderr",
     "output_type": "stream",
     "text": [
      "91it [00:01, 84.58it/s] \n"
     ]
    },
    {
     "name": "stdout",
     "output_type": "stream",
     "text": [
      "Epoch 1: Loss 0.123 Acc: 0.952\n"
     ]
    },
    {
     "name": "stderr",
     "output_type": "stream",
     "text": [
      "91it [00:01, 79.00it/s]\n"
     ]
    },
    {
     "name": "stdout",
     "output_type": "stream",
     "text": [
      "Epoch 2: Loss 0.100 Acc: 0.963\n"
     ]
    },
    {
     "name": "stderr",
     "output_type": "stream",
     "text": [
      "91it [00:01, 76.40it/s]\n"
     ]
    },
    {
     "name": "stdout",
     "output_type": "stream",
     "text": [
      "Epoch 3: Loss 0.085 Acc: 0.970\n"
     ]
    },
    {
     "name": "stderr",
     "output_type": "stream",
     "text": [
      "91it [00:01, 74.37it/s]\n"
     ]
    },
    {
     "name": "stdout",
     "output_type": "stream",
     "text": [
      "Epoch 4: Loss 0.074 Acc: 0.974\n",
      "Task 1 ---- \n",
      "num new samples:  12107\n",
      "num generated samples:  10000\n",
      "====> Epoch: 1 Average loss: -249.7986\n",
      "====> Epoch: 2 Average loss: -186.9616\n",
      "====> Epoch: 3 Average loss: -175.1770\n",
      "====> Epoch: 4 Average loss: -167.4935\n",
      "====> Epoch: 5 Average loss: -162.3097\n",
      "====> Epoch: 6 Average loss: -160.9928\n",
      "====> Epoch: 7 Average loss: -162.3646\n",
      "====> Epoch: 8 Average loss: -160.2837\n",
      "====> Epoch: 9 Average loss: -156.1799\n",
      "====> Epoch: 10 Average loss: -155.2241\n",
      "====> Epoch: 11 Average loss: -152.0560\n",
      "====> Epoch: 12 Average loss: -151.9266\n",
      "====> Epoch: 13 Average loss: -152.1537\n",
      "====> Epoch: 14 Average loss: -152.2895\n",
      "====> Epoch: 15 Average loss: -149.2291\n",
      "====> Epoch: 16 Average loss: -145.1316\n",
      "====> Epoch: 17 Average loss: -143.4393\n",
      "====> Epoch: 18 Average loss: -141.7458\n",
      "====> Epoch: 19 Average loss: -140.6146\n",
      "====> Epoch: 20 Average loss: -139.1753\n",
      "====> Epoch: 21 Average loss: -138.2697\n",
      "====> Epoch: 22 Average loss: -137.6775\n",
      "====> Epoch: 23 Average loss: -139.4153\n",
      "====> Epoch: 24 Average loss: -137.7889\n",
      "====> Epoch: 25 Average loss: -136.1296\n",
      "====> Epoch: 26 Average loss: -135.7806\n",
      "====> Epoch: 27 Average loss: -135.0687\n",
      "====> Epoch: 28 Average loss: -134.1648\n",
      "====> Epoch: 29 Average loss: -135.3132\n",
      "====> Epoch: 30 Average loss: -141.3644\n",
      "====> Epoch: 31 Average loss: -140.3523\n",
      "====> Epoch: 32 Average loss: -136.0953\n",
      "====> Epoch: 33 Average loss: -136.5807\n",
      "====> Epoch: 34 Average loss: -134.2630\n",
      "====> Epoch: 35 Average loss: -133.1460\n",
      "====> Epoch: 36 Average loss: -132.6389\n",
      "====> Epoch: 37 Average loss: -132.1071\n",
      "====> Epoch: 38 Average loss: -131.7072\n",
      "====> Epoch: 39 Average loss: -131.3831\n"
     ]
    },
    {
     "name": "stderr",
     "output_type": "stream",
     "text": [
      "173it [00:01, 112.91it/s]\n"
     ]
    },
    {
     "name": "stdout",
     "output_type": "stream",
     "text": [
      "Epoch 0: Loss 0.537 Acc: 0.867\n"
     ]
    },
    {
     "name": "stderr",
     "output_type": "stream",
     "text": [
      "173it [00:01, 113.70it/s]\n"
     ]
    },
    {
     "name": "stdout",
     "output_type": "stream",
     "text": [
      "Epoch 1: Loss 0.069 Acc: 0.979\n"
     ]
    },
    {
     "name": "stderr",
     "output_type": "stream",
     "text": [
      "173it [00:01, 114.07it/s]\n"
     ]
    },
    {
     "name": "stdout",
     "output_type": "stream",
     "text": [
      "Epoch 2: Loss 0.052 Acc: 0.984\n"
     ]
    },
    {
     "name": "stderr",
     "output_type": "stream",
     "text": [
      "173it [00:01, 112.10it/s]\n"
     ]
    },
    {
     "name": "stdout",
     "output_type": "stream",
     "text": [
      "Epoch 3: Loss 0.041 Acc: 0.987\n"
     ]
    },
    {
     "name": "stderr",
     "output_type": "stream",
     "text": [
      "173it [00:01, 112.99it/s]\n"
     ]
    },
    {
     "name": "stdout",
     "output_type": "stream",
     "text": [
      "Epoch 4: Loss 0.038 Acc: 0.987\n",
      "Task 2 ---- \n",
      "num new samples:  11881\n",
      "num generated samples:  10000\n",
      "====> Epoch: 1 Average loss: -259.5811\n",
      "====> Epoch: 2 Average loss: -191.0007\n",
      "====> Epoch: 3 Average loss: -173.3201\n",
      "====> Epoch: 4 Average loss: -165.3610\n",
      "====> Epoch: 5 Average loss: -174.8705\n",
      "====> Epoch: 6 Average loss: -167.9555\n",
      "====> Epoch: 7 Average loss: -159.8135\n",
      "====> Epoch: 8 Average loss: -156.3735\n",
      "====> Epoch: 9 Average loss: -154.2768\n",
      "====> Epoch: 10 Average loss: -151.1891\n",
      "====> Epoch: 11 Average loss: -151.0481\n",
      "====> Epoch: 12 Average loss: -149.3216\n",
      "====> Epoch: 13 Average loss: -148.7198\n",
      "====> Epoch: 14 Average loss: -146.1561\n",
      "====> Epoch: 15 Average loss: -144.9036\n",
      "====> Epoch: 16 Average loss: -144.6834\n",
      "====> Epoch: 17 Average loss: -143.3594\n",
      "====> Epoch: 18 Average loss: -142.4647\n",
      "====> Epoch: 19 Average loss: -141.6548\n",
      "====> Epoch: 20 Average loss: -140.9814\n",
      "====> Epoch: 21 Average loss: -140.4292\n",
      "====> Epoch: 22 Average loss: -139.8355\n",
      "====> Epoch: 23 Average loss: -139.3031\n",
      "====> Epoch: 24 Average loss: -138.8208\n",
      "====> Epoch: 25 Average loss: -138.4240\n",
      "====> Epoch: 26 Average loss: -137.9817\n",
      "====> Epoch: 27 Average loss: -137.6413\n",
      "====> Epoch: 28 Average loss: -137.2777\n",
      "====> Epoch: 29 Average loss: -136.9190\n",
      "====> Epoch: 30 Average loss: -136.5891\n",
      "====> Epoch: 31 Average loss: -136.3768\n",
      "====> Epoch: 32 Average loss: -136.1106\n",
      "====> Epoch: 33 Average loss: -136.7890\n",
      "====> Epoch: 34 Average loss: -138.4246\n",
      "====> Epoch: 35 Average loss: -136.1208\n",
      "====> Epoch: 36 Average loss: -135.4522\n",
      "====> Epoch: 37 Average loss: -135.1856\n",
      "====> Epoch: 38 Average loss: -134.9085\n",
      "====> Epoch: 39 Average loss: -134.6786\n"
     ]
    },
    {
     "name": "stderr",
     "output_type": "stream",
     "text": [
      "171it [00:01, 107.60it/s]\n"
     ]
    },
    {
     "name": "stdout",
     "output_type": "stream",
     "text": [
      "Epoch 0: Loss 1.099 Acc: 0.716\n"
     ]
    },
    {
     "name": "stderr",
     "output_type": "stream",
     "text": [
      "171it [00:01, 112.51it/s]\n"
     ]
    },
    {
     "name": "stdout",
     "output_type": "stream",
     "text": [
      "Epoch 1: Loss 0.197 Acc: 0.936\n"
     ]
    },
    {
     "name": "stderr",
     "output_type": "stream",
     "text": [
      "171it [00:01, 112.03it/s]\n"
     ]
    },
    {
     "name": "stdout",
     "output_type": "stream",
     "text": [
      "Epoch 2: Loss 0.140 Acc: 0.955\n"
     ]
    },
    {
     "name": "stderr",
     "output_type": "stream",
     "text": [
      "171it [00:01, 108.05it/s]\n"
     ]
    },
    {
     "name": "stdout",
     "output_type": "stream",
     "text": [
      "Epoch 3: Loss 0.112 Acc: 0.964\n"
     ]
    },
    {
     "name": "stderr",
     "output_type": "stream",
     "text": [
      "171it [00:01, 110.88it/s]\n"
     ]
    },
    {
     "name": "stdout",
     "output_type": "stream",
     "text": [
      "Epoch 4: Loss 0.094 Acc: 0.969\n",
      "Task 3 ---- \n",
      "num new samples:  11800\n",
      "num generated samples:  10000\n",
      "====> Epoch: 1 Average loss: -248.5493\n",
      "====> Epoch: 2 Average loss: -174.9029\n",
      "====> Epoch: 3 Average loss: -161.8172\n",
      "====> Epoch: 4 Average loss: -156.5396\n",
      "====> Epoch: 5 Average loss: -156.7609\n",
      "====> Epoch: 6 Average loss: -155.4858\n",
      "====> Epoch: 7 Average loss: -158.7995\n",
      "====> Epoch: 8 Average loss: -150.8779\n",
      "====> Epoch: 9 Average loss: -148.6574\n",
      "====> Epoch: 10 Average loss: -147.0082\n",
      "====> Epoch: 11 Average loss: -149.1924\n",
      "====> Epoch: 12 Average loss: -144.5533\n",
      "====> Epoch: 13 Average loss: -142.7605\n",
      "====> Epoch: 14 Average loss: -141.7540\n",
      "====> Epoch: 15 Average loss: -142.2508\n",
      "====> Epoch: 16 Average loss: -140.3203\n",
      "====> Epoch: 17 Average loss: -139.6261\n",
      "====> Epoch: 18 Average loss: -138.9723\n",
      "====> Epoch: 19 Average loss: -138.4205\n",
      "====> Epoch: 20 Average loss: -137.9626\n",
      "====> Epoch: 21 Average loss: -137.4672\n",
      "====> Epoch: 22 Average loss: -137.0690\n",
      "====> Epoch: 23 Average loss: -136.7508\n",
      "====> Epoch: 24 Average loss: -136.3389\n",
      "====> Epoch: 25 Average loss: -136.0476\n",
      "====> Epoch: 26 Average loss: -135.7354\n",
      "====> Epoch: 27 Average loss: -135.5216\n",
      "====> Epoch: 28 Average loss: -135.3066\n",
      "====> Epoch: 29 Average loss: -135.0202\n",
      "====> Epoch: 30 Average loss: -134.8481\n",
      "====> Epoch: 31 Average loss: -134.6620\n",
      "====> Epoch: 32 Average loss: -138.5844\n",
      "====> Epoch: 33 Average loss: -139.5967\n",
      "====> Epoch: 34 Average loss: -135.5178\n",
      "====> Epoch: 35 Average loss: -134.8492\n",
      "====> Epoch: 36 Average loss: -134.4617\n",
      "====> Epoch: 37 Average loss: -134.1995\n",
      "====> Epoch: 38 Average loss: -134.0267\n",
      "====> Epoch: 39 Average loss: -133.8276\n"
     ]
    },
    {
     "name": "stderr",
     "output_type": "stream",
     "text": [
      "171it [00:01, 97.56it/s] \n"
     ]
    },
    {
     "name": "stdout",
     "output_type": "stream",
     "text": [
      "Epoch 0: Loss 1.260 Acc: 0.677\n"
     ]
    },
    {
     "name": "stderr",
     "output_type": "stream",
     "text": [
      "171it [00:01, 103.46it/s]\n"
     ]
    },
    {
     "name": "stdout",
     "output_type": "stream",
     "text": [
      "Epoch 1: Loss 0.370 Acc: 0.877\n"
     ]
    },
    {
     "name": "stderr",
     "output_type": "stream",
     "text": [
      "171it [00:02, 85.47it/s]\n"
     ]
    },
    {
     "name": "stdout",
     "output_type": "stream",
     "text": [
      "Epoch 2: Loss 0.280 Acc: 0.907\n"
     ]
    },
    {
     "name": "stderr",
     "output_type": "stream",
     "text": [
      "171it [00:01, 104.42it/s]\n"
     ]
    },
    {
     "name": "stdout",
     "output_type": "stream",
     "text": [
      "Epoch 3: Loss 0.229 Acc: 0.922\n"
     ]
    },
    {
     "name": "stderr",
     "output_type": "stream",
     "text": [
      "171it [00:01, 107.87it/s]\n"
     ]
    },
    {
     "name": "stdout",
     "output_type": "stream",
     "text": [
      "Epoch 4: Loss 0.200 Acc: 0.932\n",
      "Task 4 ---- \n",
      "num new samples:  12660\n",
      "num generated samples:  10000\n",
      "====> Epoch: 1 Average loss: -226.6715\n",
      "====> Epoch: 2 Average loss: -153.4256\n",
      "====> Epoch: 3 Average loss: -141.2889\n",
      "====> Epoch: 4 Average loss: -135.3871\n",
      "====> Epoch: 5 Average loss: -130.4597\n",
      "====> Epoch: 6 Average loss: -128.2648\n",
      "====> Epoch: 7 Average loss: -126.5895\n",
      "====> Epoch: 8 Average loss: -125.8526\n",
      "====> Epoch: 9 Average loss: -124.2064\n",
      "====> Epoch: 10 Average loss: -123.2978\n",
      "====> Epoch: 11 Average loss: -122.7152\n",
      "====> Epoch: 12 Average loss: -122.5600\n",
      "====> Epoch: 13 Average loss: -119.5086\n",
      "====> Epoch: 14 Average loss: -123.1866\n",
      "====> Epoch: 15 Average loss: -119.3445\n",
      "====> Epoch: 16 Average loss: -117.0177\n",
      "====> Epoch: 17 Average loss: -116.0293\n",
      "====> Epoch: 18 Average loss: -115.2155\n",
      "====> Epoch: 19 Average loss: -114.5507\n",
      "====> Epoch: 20 Average loss: -117.2684\n",
      "====> Epoch: 21 Average loss: -116.9241\n",
      "====> Epoch: 22 Average loss: -114.1970\n",
      "====> Epoch: 23 Average loss: -113.2827\n",
      "====> Epoch: 24 Average loss: -112.7852\n",
      "====> Epoch: 25 Average loss: -112.3612\n",
      "====> Epoch: 26 Average loss: -112.0377\n",
      "====> Epoch: 27 Average loss: -111.7119\n",
      "====> Epoch: 28 Average loss: -111.3960\n",
      "====> Epoch: 29 Average loss: -111.1336\n",
      "====> Epoch: 30 Average loss: -110.8996\n",
      "====> Epoch: 31 Average loss: -110.6731\n",
      "====> Epoch: 32 Average loss: -110.4874\n",
      "====> Epoch: 33 Average loss: -110.2797\n",
      "====> Epoch: 34 Average loss: -110.0466\n",
      "====> Epoch: 35 Average loss: -109.9108\n",
      "====> Epoch: 36 Average loss: -109.7743\n",
      "====> Epoch: 37 Average loss: -109.6091\n",
      "====> Epoch: 38 Average loss: -109.4784\n",
      "====> Epoch: 39 Average loss: -109.3183\n"
     ]
    },
    {
     "name": "stderr",
     "output_type": "stream",
     "text": [
      "178it [00:01, 116.02it/s]\n"
     ]
    },
    {
     "name": "stdout",
     "output_type": "stream",
     "text": [
      "Epoch 0: Loss 1.143 Acc: 0.717\n"
     ]
    },
    {
     "name": "stderr",
     "output_type": "stream",
     "text": [
      "178it [00:01, 117.06it/s]\n"
     ]
    },
    {
     "name": "stdout",
     "output_type": "stream",
     "text": [
      "Epoch 1: Loss 0.269 Acc: 0.914\n"
     ]
    },
    {
     "name": "stderr",
     "output_type": "stream",
     "text": [
      "178it [00:01, 116.97it/s]\n"
     ]
    },
    {
     "name": "stdout",
     "output_type": "stream",
     "text": [
      "Epoch 2: Loss 0.197 Acc: 0.932\n"
     ]
    },
    {
     "name": "stderr",
     "output_type": "stream",
     "text": [
      "178it [00:01, 116.25it/s]\n"
     ]
    },
    {
     "name": "stdout",
     "output_type": "stream",
     "text": [
      "Epoch 3: Loss 0.159 Acc: 0.944\n"
     ]
    },
    {
     "name": "stderr",
     "output_type": "stream",
     "text": [
      "178it [00:02, 84.47it/s]\n"
     ]
    },
    {
     "name": "stdout",
     "output_type": "stream",
     "text": [
      "Epoch 4: Loss 0.137 Acc: 0.951\n"
     ]
    },
    {
     "data": {
      "image/png": "[encoded data removed]",
      "text/plain": [
       "<Figure size 640x480 with 1 Axes>"
      ]
     },
     "metadata": {},
     "output_type": "display_data"
    },
    {
     "data": {
      "image/png": "[encoded data removed]",
      "text/plain": [
       "<Figure size 640x480 with 1 Axes>"
      ]
     },
     "metadata": {},
     "output_type": "display_data"
    },
    {
     "name": "stdout",
     "output_type": "stream",
     "text": [
      "[INFO] Register count_linear() for <class 'torch.nn.modules.linear.Linear'>.\n",
      "[INFO] Register count_linear() for <class 'torch.nn.modules.linear.Linear'>.\n",
      "The average accuracy at the end of sequence is: 0.792\n",
      "BWT:'-0.231'\n",
      "FWT:'-0.127'\n",
      "Model size efficiency: 1.000\n",
      "Model (forward) MACs: 44700.0\n",
      "Buffer (forward) MACs: 203776.0\n"
     ]
    }
   ],
   "source": [
    "\n",
    "train, test = get_dataset(dataroot='../data/', dataset=args['dataset'])\n",
    "train_tasks = split_dataset(train, class_split)\n",
    "val_tasks = split_dataset(test, class_split)\n",
    "agent = Agent(args, train_tasks, val_tasks)\n",
    "\n",
    "agent.validate()\n",
    "random_model_acc = [i[0] for i in agent.acc.values()]\n",
    "\n",
    "agent.reset_metrics()\n",
    "agent.train()\n",
    "\n",
    "model_memories = np.array([agent.model_memory[task] for task in agent.model_memory])\n",
    "\n",
    "\n",
    "acc_at_end_arr = dict2array(agent.acc_end)\n",
    "plot_accuracy_matrix(acc_at_end_arr)\n",
    "\n",
    "acc_arr = dict2array(agent.acc)\n",
    "plot_acc_over_time(acc_arr)\n",
    "\n",
    "ms_eff = compute_model_size_eff(model_memories)\n",
    "\n",
    "model_macs, _  = profile(agent.model, inputs=(torch.randn(1, 28, 28).to(device),))\n",
    "buffer_macs, _ = profile(agent.buffer.VAE, inputs=(torch.randn(1, 28, 28).to(device),))\n",
    "\n",
    "\n",
    "print(f\"The average accuracy at the end of sequence is: {compute_average_accuracy(acc_at_end_arr):.3f}\")\n",
    "print(f\"BWT:'{compute_backward_transfer(acc_at_end_arr):.3f}'\")\n",
    "\n",
    "print(f\"FWT:'{compute_forward_transfer(acc_at_end_arr, random_model_acc):.3f}'\")\n",
    "\n",
    "print(f\"Model size efficiency: {ms_eff:.3f}\")\n",
    "\n",
    "print(f\"Model (forward) MACs: {model_macs}\")\n",
    "print(f\"Buffer (forward) MACs: {buffer_macs}\")"
   ]
  },
  {
   "cell_type": "markdown",
   "metadata": {},
   "source": [
    "## Agent and experiment with greedy buffer"
   ]
  },
  {
   "cell_type": "code",
   "execution_count": 19,
   "metadata": {},
   "outputs": [],
   "source": [
    "class GreedyBuffer:\n",
    "    def __init__(self, samples_per_class):\n",
    "        self.samples_per_class = samples_per_class\n",
    "        self.samples = torch.Tensor([])\n",
    "        self.targets = torch.Tensor([])\n",
    "\n",
    "    def store_data(self, loader):\n",
    "        samples, targets = torch.Tensor([]), torch.Tensor([])\n",
    "        for sample, target in loader:\n",
    "            samples = torch.cat((samples, sample))\n",
    "            targets = torch.cat((targets, target))\n",
    "        \n",
    "        for label in torch.unique(targets):\n",
    "            greedy_idx = torch.where(targets == label)[0][:self.samples_per_class]\n",
    "            self.samples = torch.cat((self.samples, samples[greedy_idx]))\n",
    "            self.targets = torch.cat((self.targets, targets[greedy_idx]))\n",
    "\n",
    "    def get_data(self):\n",
    "        return self.samples, self.targets.to(torch.int64)\n",
    "\n",
    "    def __len__(self):\n",
    "        assert len(self.samples) == len(self.targets), f\"Incosistent lengths of data tensor: {self.samples.shape}, target tensor: {self.targets.shape}!\"\n",
    "        return len(self.samples)"
   ]
  },
  {
   "cell_type": "code",
   "execution_count": 44,
   "metadata": {},
   "outputs": [],
   "source": [
    "\n",
    "class Agent:\n",
    "    def __init__(self, args, train_datasets, val_datasets):\n",
    "        self.args = args\n",
    "        model = MLP(self.args)\n",
    "\n",
    "        self.model = model.to(device)\n",
    "        self.optimizer = torch.optim.Adam(self.model.parameters(), lr=self.args['lr'])\n",
    "        self.criterion = torch.nn.CrossEntropyLoss()\n",
    "        self.reset_metrics()\n",
    "        self.train_datasets = train_datasets\n",
    "\n",
    "        self.val_datasets = val_datasets\n",
    "        \n",
    "        self.buffer = GreedyBuffer(samples_per_class = 300) \n",
    "    \n",
    "    def reset_metrics(self):\n",
    "        self.acc = {key: [] for key in self.args['task_names']}\n",
    "        self.acc_end = {key: [] for key in self.args['task_names']}\n",
    "        self.model_memory = {key: None for key in self.args['task_names']}\n",
    "        self.loader_memory = {key: None for key in self.args['task_names']}\n",
    "        \n",
    "\n",
    "\n",
    "    def train(self):\n",
    "        for task, data in self.train_datasets.items():\n",
    "            loader = DataLoader(data, batch_size=self.args['bs'])\n",
    "            \"\"\"\n",
    "              Put the data loader to the buffer (use store_data method).\n",
    "              Retrieve previously stored data and create \"greedy_loader\" using\n",
    "              TensorDataset class.\n",
    "            \"\"\"\n",
    "             \n",
    "            self.buffer.store_data(loader)\n",
    "            print(f\"Task {task} -- buffer stores {len(self.buffer)} samples\")\n",
    "            samples, targets = self.buffer.get_data()\n",
    "            greedy_dataset = TensorDataset(samples, targets)\n",
    "            greedy_loader = DataLoader(greedy_dataset, batch_size=self.args['bs'], shuffle=True)\n",
    "\n",
    "            self.loader_memory[task] = samples.nelement() * samples.element_size() + targets.nelement() * targets.element_size()\n",
    "            \n",
    "            for epoch in range(self.args['epochs']):\n",
    "                epoch_loss = 0\n",
    "                total = 0\n",
    "                correct = 0\n",
    "                for e, (X, y) in enumerate(greedy_loader):\n",
    "                    if torch.cuda.is_available():\n",
    "                        X, y = X.cuda(), y.cuda()\n",
    "                    output = self.model(X)\n",
    "                    loss = self.criterion(output, y)\n",
    "                    self.optimizer.zero_grad()\n",
    "                    loss.backward() \n",
    "                    self.optimizer.step()\n",
    "                    epoch_loss += loss.item()\n",
    "                    correct += torch.sum(torch.topk(output, axis=1, k=1)[1].squeeze(1) == y)\n",
    "                    total += len(X)\n",
    "                    if e % 50 == 0:\n",
    "                        self.validate()\n",
    "                print(f\"Epoch {epoch}: Loss {epoch_loss/(e+1):.3f} Acc: {correct/total:.3f}\")\n",
    "            self.validate(end_of_epoch=True)\n",
    "\n",
    "            param_size = 0\n",
    "            for param in self.model.parameters():\n",
    "                param_size += param.nelement() * param.element_size()\n",
    "            buffer_size = 0\n",
    "            for buffer in self.model.buffers():\n",
    "                buffer_size += buffer.nelement() * buffer.element_size()\n",
    "\n",
    "            self.model_memory[task] = (param_size + buffer_size) / 1024**2\n",
    "\n",
    "\n",
    "\n",
    "    @torch.no_grad()\n",
    "    def validate(self, end_of_epoch=False):\n",
    "        self.model.eval()\n",
    "        for task, data in self.val_datasets.items():\n",
    "            loader = torch.utils.data.DataLoader(data, batch_size=args['bs'], shuffle=True)\n",
    "            correct, total = 0, 0\n",
    "            for e, (X, y) in enumerate(loader):\n",
    "                X, y = X.to(device), y.to(device)\n",
    "                output = self.model(X)\n",
    "                correct += torch.sum(torch.topk(output, axis=1, k=1)[1].squeeze(1) == y).item()\n",
    "                total += len(X)\n",
    "            self.acc[task].append(correct/total)\n",
    "            if end_of_epoch:\n",
    "                self.acc_end[task].append(correct/total)\n",
    "        self.model.train()\n",
    "\n",
    "\n",
    "class MLP(torch.nn.Module):\n",
    "    def __init__(self, args):\n",
    "        super().__init__()\n",
    "        hidden_size = args['hidden_size']\n",
    "        self.fc1 = torch.nn.Linear(args['in_size']**2 * args['n_channels'], hidden_size)\n",
    "        self.fc2 = torch.nn.Linear(hidden_size, hidden_size)\n",
    "        self.fc3 = torch.nn.Linear(hidden_size, hidden_size)\n",
    "        self.fc4 = torch.nn.Linear(hidden_size, args['num_classes'])\n",
    "\n",
    "    def forward(self, input):\n",
    "        x_mlp = input.flatten(start_dim=1)\n",
    "        x_mlp = torch.nn.functional.relu(self.fc1(x_mlp))\n",
    "        x_mlp = torch.nn.functional.relu(self.fc2(x_mlp))\n",
    "        x_mlp = torch.nn.functional.relu(self.fc3(x_mlp))\n",
    "        x_mlp = self.fc4(x_mlp)\n",
    "        return x_mlp\n"
   ]
  },
  {
   "cell_type": "code",
   "execution_count": 45,
   "metadata": {},
   "outputs": [
    {
     "name": "stdout",
     "output_type": "stream",
     "text": [
      "{'0': [6, 9], '1': [8, 4], '2': [5, 1], '3': [2, 7], '4': [0, 3]}\n"
     ]
    }
   ],
   "source": [
    "classes = list(range(args['num_classes']))\n",
    "shuffle(classes)\n",
    "class_split = {str(i): classes[i*2: (i+1)*2] for i in range(args['num_tasks'])}\n",
    "print(class_split)\n",
    "args['task_names'] = list(class_split.keys())"
   ]
  },
  {
   "cell_type": "code",
   "execution_count": 47,
   "metadata": {},
   "outputs": [
    {
     "name": "stdout",
     "output_type": "stream",
     "text": [
      "Task 0 -- buffer stores 600 samples\n",
      "Epoch 0: Loss 2.189 Acc: 0.500\n",
      "Epoch 1: Loss 1.933 Acc: 0.503\n",
      "Epoch 2: Loss 1.464 Acc: 0.507\n",
      "Epoch 3: Loss 0.885 Acc: 0.555\n",
      "Epoch 4: Loss 0.439 Acc: 0.947\n",
      "Task 1 -- buffer stores 1200 samples\n",
      "Epoch 0: Loss 2.610 Acc: 0.497\n",
      "Epoch 1: Loss 1.444 Acc: 0.496\n",
      "Epoch 2: Loss 1.169 Acc: 0.616\n",
      "Epoch 3: Loss 0.910 Acc: 0.649\n",
      "Epoch 4: Loss 0.756 Acc: 0.713\n",
      "Task 2 -- buffer stores 1800 samples\n",
      "Epoch 0: Loss 2.015 Acc: 0.486\n",
      "Epoch 1: Loss 1.410 Acc: 0.519\n",
      "Epoch 2: Loss 1.216 Acc: 0.618\n",
      "Epoch 3: Loss 0.926 Acc: 0.757\n",
      "Epoch 4: Loss 0.687 Acc: 0.801\n",
      "Task 3 -- buffer stores 2400 samples\n",
      "Epoch 0: Loss 2.116 Acc: 0.640\n",
      "Epoch 1: Loss 1.244 Acc: 0.637\n",
      "Epoch 2: Loss 0.836 Acc: 0.749\n",
      "Epoch 3: Loss 0.579 Acc: 0.832\n",
      "Epoch 4: Loss 0.446 Acc: 0.869\n",
      "Task 4 -- buffer stores 3000 samples\n",
      "Epoch 0: Loss 1.742 Acc: 0.666\n",
      "Epoch 1: Loss 0.926 Acc: 0.745\n",
      "Epoch 2: Loss 0.544 Acc: 0.836\n",
      "Epoch 3: Loss 0.405 Acc: 0.879\n",
      "Epoch 4: Loss 0.334 Acc: 0.902\n"
     ]
    },
    {
     "data": {
      "image/png": "[encoded data removed]",
      "text/plain": [
       "<Figure size 640x480 with 1 Axes>"
      ]
     },
     "metadata": {},
     "output_type": "display_data"
    },
    {
     "data": {
      "image/png": "[encoded data removed]",
      "text/plain": [
       "<Figure size 640x480 with 1 Axes>"
      ]
     },
     "metadata": {},
     "output_type": "display_data"
    },
    {
     "name": "stdout",
     "output_type": "stream",
     "text": [
      "[INFO] Register count_linear() for <class 'torch.nn.modules.linear.Linear'>.\n",
      "The average accuracy at the end of sequence is: 0.874\n",
      "BWT:'0.096'\n",
      "FWT:'0.000'\n",
      "Model size efficiency: 1.000\n",
      "Samples storage efficiency: 0.400\n",
      "Model (forward) MACs: 44700.0\n"
     ]
    }
   ],
   "source": [
    "\n",
    "train, test = get_dataset(dataroot='../data/', dataset=args['dataset'])\n",
    "train_tasks = split_dataset(train, class_split)\n",
    "val_tasks = split_dataset(test, class_split)\n",
    "agent = Agent(args, train_tasks, val_tasks)\n",
    "\n",
    "agent.validate()\n",
    "random_model_acc = [i[0] for i in agent.acc.values()]\n",
    "\n",
    "agent.reset_metrics()\n",
    "agent.train()\n",
    "\n",
    "model_memories = np.array([agent.model_memory[task] for task in agent.model_memory])\n",
    "loader_memories = np.array([agent.loader_memory[task] for task in agent.loader_memory])\n",
    "memory_bound = loader_memories[-1]\n",
    "\n",
    "acc_at_end_arr = dict2array(agent.acc_end)\n",
    "plot_accuracy_matrix(acc_at_end_arr)\n",
    "\n",
    "acc_arr = dict2array(agent.acc)\n",
    "plot_acc_over_time(acc_arr)\n",
    "\n",
    "ms_eff = compute_model_size_eff(model_memories)\n",
    "sss_eff = compute_samples_storage_eff(loader_memories, memory_bound)\n",
    "\n",
    "model_macs, _  = profile(agent.model, inputs=(torch.randn(1, 28, 28).to(device),))\n",
    "\n",
    "print(f\"The average accuracy at the end of sequence is: {compute_average_accuracy(acc_at_end_arr):.3f}\")\n",
    "print(f\"BWT:'{compute_backward_transfer(acc_at_end_arr):.3f}'\")\n",
    "\n",
    "print(f\"FWT:'{compute_forward_transfer(acc_at_end_arr, random_model_acc):.3f}'\")\n",
    "\n",
    "print(f\"Model size efficiency: {ms_eff:.3f}\")\n",
    "print(f\"Samples storage efficiency: {sss_eff:.3f}\")\n",
    "\n",
    "print(f\"Model (forward) MACs: {model_macs}\")"
   ]
  },
  {
   "cell_type": "code",
   "execution_count": null,
   "metadata": {},
   "outputs": [],
   "source": []
  }
 ],
 "metadata": {
  "kernelspec": {
   "display_name": "course",
   "language": "python",
   "name": "python3"
  },
  "language_info": {
   "codemirror_mode": {
    "name": "ipython",
    "version": 3
   },
   "file_extension": ".py",
   "mimetype": "text/x-python",
   "name": "python",
   "nbconvert_exporter": "python",
   "pygments_lexer": "ipython3",
   "version": "3.12.3"
  }
 },
 "nbformat": 4,
 "nbformat_minor": 2
}
